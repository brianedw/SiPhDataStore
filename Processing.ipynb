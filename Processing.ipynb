{
 "cells": [
  {
   "cell_type": "markdown",
   "metadata": {
    "id": "xoEKj9Fj6nQ_"
   },
   "source": [
    "## Stock Imports"
   ]
  },
  {
   "cell_type": "code",
   "execution_count": null,
   "metadata": {},
   "outputs": [],
   "source": [
    "%load_ext autoreload\n",
    "%autoreload 2"
   ]
  },
  {
   "cell_type": "code",
   "execution_count": null,
   "metadata": {
    "id": "lVDF54YLrnpJ"
   },
   "outputs": [],
   "source": [
    "import shutil\n",
    "import os\n",
    "import sys\n",
    "import re"
   ]
  },
  {
   "cell_type": "code",
   "execution_count": null,
   "metadata": {
    "id": "kL-_8zeFVN8G"
   },
   "outputs": [],
   "source": [
    "import numpy as np\n",
    "import scipy\n",
    "import PIL"
   ]
  },
  {
   "cell_type": "code",
   "execution_count": null,
   "metadata": {
    "id": "UOLJp6qOeEr6"
   },
   "outputs": [],
   "source": [
    "from scipy.optimize import minimize_scalar, minimize"
   ]
  },
  {
   "cell_type": "code",
   "execution_count": null,
   "metadata": {
    "colab": {
     "base_uri": "https://localhost:8080/"
    },
    "id": "XonCSavOmKU2",
    "outputId": "fddeb788-9713-403b-ea38-8fec06372167"
   },
   "outputs": [],
   "source": [
    "import bokeh\n",
    "from bokeh.io import output_notebook\n",
    "from bokeh.plotting import figure, show\n",
    "from bokeh.models import ColumnDataSource, Text\n",
    "from bokeh.io import output_file, show\n",
    "from bokeh.models import ColumnDataSource\n",
    "from bokeh.plotting import figure\n",
    "from bokeh.transform import dodge\n",
    "\n",
    "print(\"Bokeh Version:\", bokeh.__version__)\n",
    "\n",
    "output_notebook()\n",
    "bokeh.io.curdoc().theme = 'dark_minimal'"
   ]
  },
  {
   "cell_type": "code",
   "execution_count": null,
   "metadata": {
    "id": "vzjOvwtq60Pe"
   },
   "outputs": [],
   "source": [
    "from bokeh.models import tickers"
   ]
  },
  {
   "cell_type": "code",
   "execution_count": null,
   "metadata": {
    "id": "U8iU2p9m6Hno"
   },
   "outputs": [],
   "source": [
    "import bokeh.palettes as palettes"
   ]
  },
  {
   "cell_type": "code",
   "execution_count": null,
   "metadata": {
    "id": "YdNN6k0a7xnR"
   },
   "outputs": [],
   "source": [
    "deg = (2*np.pi)/360"
   ]
  },
  {
   "cell_type": "markdown",
   "metadata": {},
   "source": [
    "## Custom Imports"
   ]
  },
  {
   "cell_type": "code",
   "execution_count": null,
   "metadata": {},
   "outputs": [],
   "source": [
    "from DataContainers import (TargSParams, SimSParams, ExpResultSpect, ExpResult)"
   ]
  },
  {
   "cell_type": "code",
   "execution_count": null,
   "metadata": {},
   "outputs": [],
   "source": [
    "from UtilityMath import (findSingleRotCF, findDoubleRotCF, genInterferenceLabels, genTransLabels, matrixDiffMag, matrixMagDiffMag, matrixDiffVarPhase, findSF)"
   ]
  },
  {
   "cell_type": "code",
   "execution_count": null,
   "metadata": {},
   "outputs": [],
   "source": [
    "from UtilityPlotting import (PolarPlot, DispersionPlot, PowerBarPlot)"
   ]
  },
  {
   "cell_type": "markdown",
   "metadata": {
    "heading_collapsed": "true"
   },
   "source": [
    "# Work"
   ]
  },
  {
   "cell_type": "markdown",
   "metadata": {
    "id": "bP7PD8Zx2XAj"
   },
   "source": [
    "## Theoretical Kernel Definitions"
   ]
  },
  {
   "cell_type": "markdown",
   "metadata": {
    "id": "waeOJnSX60He"
   },
   "source": [
    "## Function Library"
   ]
  },
  {
   "cell_type": "markdown",
   "metadata": {
    "id": "ZBtnathBRm0D"
   },
   "source": [
    "### Plotting"
   ]
  },
  {
   "cell_type": "markdown",
   "metadata": {
    "heading_collapsed": "true",
    "id": "TULf6-xUCd4T"
   },
   "source": [
    "#### Phase Error Simulation Plot"
   ]
  },
  {
   "cell_type": "code",
   "execution_count": null,
   "metadata": {
    "id": "4Q5uZL3fnR04"
   },
   "outputs": [],
   "source": [
    "def makePhErrorSimPlot(KName, KTarg, KSim):\n",
    "    KTarget = KTarg.getSTransPart()\n",
    "    p = figure(plot_width=800, plot_height=400, title=KName + \" Sim Error vs Wavelength\", x_range=[1.4, 1.6], y_range=[-0.1, 6.1])\n",
    "\n",
    "    errorsComp = [matrixDiffMag(k, KTarget) for k in KSim.getSTransPartSpec()]\n",
    "    errorsMag = [matrixMagDiffMag(k, KTarget) for k in KSim.getSTransPartSpec()]\n",
    "    errorsMagVarPh = [matrixDiffVarPhase(k, KTarget) for k in KSim.getSTransPartSpec()]\n",
    "\n",
    "    p.line(x=KSim.wls, y=errorsComp, line_color=palettes.Category10[9][0], legend_label=\"Complex Error\")\n",
    "    p.line(x=KSim.wls, y=errorsMag, line_color=palettes.Category10[9][1], legend_label=\"Mag Error\")\n",
    "    p.line(x=KSim.wls, y=errorsMagVarPh, line_color=palettes.Category10[9][2], legend_label=\"Complex Error var Phase\")\n",
    "    return p"
   ]
  },
  {
   "cell_type": "code",
   "execution_count": null,
   "metadata": {
    "id": "JAUye4wNHgmm"
   },
   "outputs": [],
   "source": []
  },
  {
   "cell_type": "markdown",
   "metadata": {
    "heading_collapsed": "true",
    "id": "ieaF5rCpCpnj"
   },
   "source": [
    "#### Dispersion Plot"
   ]
  },
  {
   "cell_type": "code",
   "execution_count": null,
   "metadata": {
    "id": "tgLrJiVA18aP"
   },
   "outputs": [],
   "source": [
    "def makeDispersionPlot(KName, yMax):\n",
    "    p = figure(plot_width=850, plot_height=400, title=KName+' Single Power Transmissions', x_range=[1.400,1.600], y_range=[0, yMax])\n",
    "    # p.update_layout(shapes=[dict(type= 'line', yref= 'paper', y0= 0, y1= 1, xref= 'x', x0= 1.525, x1= 1.525)])\n",
    "    p.xaxis.axis_label = 'wavelength (um)'\n",
    "    p.yaxis.axis_label = 'T'\n",
    "    return p"
   ]
  },
  {
   "cell_type": "code",
   "execution_count": null,
   "metadata": {
    "id": "GarYb58L2IX3"
   },
   "outputs": [],
   "source": [
    "def addSimTraces(p, KSim, rList, tList):\n",
    "    colorIndex = 0\n",
    "    for t in tList:\n",
    "        for r in rList:\n",
    "            color = palettes.Category10[9][colorIndex]\n",
    "            colorIndex += 1\n",
    "            trace = KSim.getTTrace(r,t)\n",
    "            p.line(KSim.wls, trace, line_color=color, line_width=2, legend_label=\"abs(S\"+str(r)+str(t)+\")^2\")"
   ]
  },
  {
   "cell_type": "code",
   "execution_count": null,
   "metadata": {
    "id": "4vLGpJhO3Ezv"
   },
   "outputs": [],
   "source": [
    "def addTargDots(p, KTarg, rList, tList):\n",
    "    colorIndex = 0\n",
    "    for t in tList:\n",
    "        for r in rList:\n",
    "            color = palettes.Category10[9][colorIndex]\n",
    "            colorIndex += 1\n",
    "            val = KTarg.getTVal(r,t)\n",
    "            p.circle([1.525], [val], size=10, color=color, fill_alpha=0)"
   ]
  },
  {
   "cell_type": "code",
   "execution_count": null,
   "metadata": {
    "id": "AAouswwF3ThW"
   },
   "outputs": [],
   "source": [
    "def addExpDots(p, KExp, rList, tList):\n",
    "    colorIndex = 0\n",
    "    for t in tList:\n",
    "        for r in rList:\n",
    "            color = palettes.Category10[9][colorIndex]\n",
    "            colorIndex += 1\n",
    "            val = KExp.getTVal(r,t)\n",
    "            p.cross([1.525], [val], size=10, color=color)"
   ]
  },
  {
   "cell_type": "markdown",
   "metadata": {
    "heading_collapsed": "true",
    "id": "Q7E3T1WN8DqI"
   },
   "source": [
    "#### Interference Dispersion Plot"
   ]
  },
  {
   "cell_type": "code",
   "execution_count": null,
   "metadata": {
    "id": "KwkpXUsh8DqJ"
   },
   "outputs": [],
   "source": [
    "def makeInterDispersionPlot(KName, yMax):\n",
    "    p = figure(plot_width=850, plot_height=400, title=KName+' Interferred Power Transmissions', x_range=[1.400,1.600], y_range=[0, yMax])\n",
    "    p.xaxis.axis_label = 'wavelength (um)'\n",
    "    p.yaxis.axis_label = 'T'\n",
    "    return p"
   ]
  },
  {
   "cell_type": "code",
   "execution_count": null,
   "metadata": {
    "id": "VOUa-ylY8DqL"
   },
   "outputs": [],
   "source": [
    "def addSimTraces1(p, KSim, rPairs, tList):\n",
    "    cIndex = 0\n",
    "    for t in tVals:\n",
    "        for rPair in rPairs:\n",
    "            color = palettes.Category10[9][cIndex]\n",
    "            cIndex += 1\n",
    "            r1, r2 = rPair\n",
    "            trace = np.abs(KSim.getSTrace(r1,t) + KSim.getSTrace(r2,t))**2\n",
    "            p.line( KSim.wls, trace, line_color=color, line_width=2, legend_label=\"P\"+str(r1)+str(r2)+','+str(t))"
   ]
  },
  {
   "cell_type": "code",
   "execution_count": null,
   "metadata": {
    "id": "Hl6QDvFT8DqO"
   },
   "outputs": [],
   "source": [
    "def addTargDots1(p, KTarg, rPairs, tList):\n",
    "    cIndex = 0\n",
    "    for t in tVals:\n",
    "        for rPair in rPairs:\n",
    "            (r1, r2) = rPair\n",
    "            color = palettes.Category10[9][cIndex]\n",
    "            cIndex += 1\n",
    "            val = np.abs(KTarg.getSVal(r1, t) + KTarg.getSVal(r2, t))**2\n",
    "            p.circle([1.525], [val], size=10, color=color, fill_alpha=0)"
   ]
  },
  {
   "cell_type": "code",
   "execution_count": null,
   "metadata": {
    "id": "uh1q_tf38DqN"
   },
   "outputs": [],
   "source": [
    "def addExpDots1(p, KExpInt, rPairs, tList):\n",
    "    cIndex = 0\n",
    "    for t in tVals:\n",
    "        for rPair in rPairs:\n",
    "            color = palettes.Category10[9][cIndex]\n",
    "            cIndex += 1\n",
    "            val = KExpInt.getPVal(rPair, t)\n",
    "            p.cross([1.525], [val], size=10, color=color)"
   ]
  },
  {
   "cell_type": "markdown",
   "metadata": {
    "heading_collapsed": "true",
    "id": "pji9AQNn0foe"
   },
   "source": [
    "#### Power Bar Plot"
   ]
  },
  {
   "cell_type": "code",
   "execution_count": null,
   "metadata": {
    "id": "YhdkV-rnIX-K"
   },
   "outputs": [],
   "source": [
    "# def MakePowerBarPlot(KTarg, KSim, KExp, rVals, tVals):\n",
    "#     cats = ['T'+str(r)+str(t) for r in rVals for t in tVals]\n",
    "#     subCats = ['targ', 'sim', 'exp']\n",
    "#     dodges = [-0.25, 0.0, 0.25]\n",
    "#     colors = [\"#c9d9d3\", \"#718dbf\", \"#e84d60\"]\n",
    "\n",
    "#     targData = KTarg.getTTransPart().flatten().tolist()\n",
    "#     simData = KSim.getTTransPart(1.525).flatten().tolist()\n",
    "#     expData = KExp.getTTransPart().flatten().tolist()\n",
    "\n",
    "#     data = {'cats' : cats,\n",
    "#             'targ' : targData,\n",
    "#             'sim' : simData,\n",
    "#             'exp' : expData}\n",
    "#     source = ColumnDataSource(data=data)\n",
    "\n",
    "#     max = np.max((targData,simData,expData))\n",
    "#     p = figure(x_range=cats, y_range=(0, 1.2*max), plot_width=850, plot_height = 300, \n",
    "#                title=\"Power Comparisons\", toolbar_location=None, tools=\"\")\n",
    "\n",
    "#     for i in range(len(subCats)):\n",
    "#         p.vbar(x=dodge('cats', dodges[i], range=p.x_range), top=subCats[i], width=0.2, source=source,\n",
    "#         color=colors[i], legend_label=subCats[i])\n",
    "\n",
    "#     p.x_range.range_padding = 0.1\n",
    "#     p.xgrid.grid_line_color = None\n",
    "#     p.legend.location = \"top_left\"\n",
    "#     p.legend.orientation = \"horizontal\"\n",
    "#     return p"
   ]
  },
  {
   "cell_type": "code",
   "execution_count": null,
   "metadata": {
    "id": "_4OQibcQ6bnt"
   },
   "outputs": [],
   "source": [
    "# def MakeInterPowerBarPlot(KTarg, KSim, KExp, labels):\n",
    "#     cats = labels\n",
    "#     subCats = ['targ', 'sim', 'exp']\n",
    "#     dodges =  [ -0.25,   0.0,  0.25]\n",
    "#     colors = [\"#c9d9d3\", \"#718dbf\", \"#e84d60\"]\n",
    "\n",
    "    \n",
    "#     targData = [KTarg.getMeasurement(label)[1] for label in labels]\n",
    "#     simData = [KSim.getMeasurementAt(label, 1.525)[1] for label in labels]\n",
    "#     expData = [KExp.getMeasurement(label)[1] for label in labels]\n",
    "    \n",
    "#     data = {'cats' : cats,\n",
    "#             'targ' : targData,\n",
    "#             'sim' : simData,\n",
    "#             'exp' : expData}\n",
    "#     source = ColumnDataSource(data=data)\n",
    "    \n",
    "#     max = np.max((targData,simData,expData))\n",
    "#     p = figure(x_range=cats, y_range=(0, 1.2*max), plot_width=850, plot_height = 300, \n",
    "#                 title=\"Power Comparisons\", toolbar_location=None, tools=\"\")\n",
    "\n",
    "#     for i in range(len(subCats)):\n",
    "#         p.vbar(x=dodge('cats', dodges[i], range=p.x_range), top=subCats[i], width=0.2, source=source,\n",
    "#         color=colors[i], legend_label=subCats[i])\n",
    "\n",
    "#     p.x_range.range_padding = 0.1\n",
    "#     p.xgrid.grid_line_color = None\n",
    "#     p.legend.location = \"top_left\"\n",
    "#     p.legend.orientation = \"horizontal\"\n",
    "#     return p"
   ]
  },
  {
   "cell_type": "markdown",
   "metadata": {
    "id": "MWwyRV4Ko8vK"
   },
   "source": [
    "# Application"
   ]
  },
  {
   "cell_type": "code",
   "execution_count": null,
   "metadata": {
    "colab": {
     "base_uri": "https://localhost:8080/"
    },
    "id": "WYral8KqpaUm",
    "outputId": "8f153405-d254-42a9-b00f-9c86b167ecf8",
    "partialCollapse": true
   },
   "outputs": [],
   "source": [
    "# reloadSiPhDataStore()"
   ]
  },
  {
   "cell_type": "markdown",
   "metadata": {
    "heading_collapsed": "true",
    "id": "UC0SmOy1jK8F"
   },
   "source": [
    "## K1 Analysis"
   ]
  },
  {
   "cell_type": "code",
   "execution_count": null,
   "metadata": {
    "colab": {
     "base_uri": "https://localhost:8080/",
     "height": 198
    },
    "id": "kOUGcoH6Vwnx",
    "outputId": "de89bf5f-6bd7-4fde-dedb-7c8a7caaaea6"
   },
   "outputs": [],
   "source": [
    "KSim = K1Sim\n",
    "KTarget = K1Target.conj()*np.exp(1j*(20)*deg)\n",
    "KName = 'K1'"
   ]
  },
  {
   "cell_type": "code",
   "execution_count": null,
   "metadata": {
    "id": "SMPDSnFga_mP"
   },
   "outputs": [],
   "source": [
    "ind = find_nearest_index(KSim['wls'], 1.525)\n",
    "STransAtWL = KSim.getTransPart()[ind]\n",
    "wl = round(KSim['wls'][ind],4)"
   ]
  },
  {
   "cell_type": "code",
   "execution_count": null,
   "metadata": {
    "id": "Gghu5_PzXLSq"
   },
   "outputs": [],
   "source": [
    "KTarget"
   ]
  },
  {
   "cell_type": "code",
   "execution_count": null,
   "metadata": {
    "id": "G-I-fN3XHL-a"
   },
   "outputs": [],
   "source": [
    "p = makePolarPlot(KName+' '+str(wl)+'(um)')\n",
    "addMatrixDiff(p, KTarget, STransAtWL)\n",
    "show(p)"
   ]
  },
  {
   "cell_type": "code",
   "execution_count": null,
   "metadata": {
    "id": "SI5z3BS4rigA"
   },
   "outputs": [],
   "source": [
    "errorsComp = [matrixDiffMag(k, KTarget) for k in KSim.getTransPart()]\n",
    "errorsMag = [matrixMagDiffMag(k, KTarget) for k in KSim.getTransPart()]\n",
    "errorsMagVarPh = [matrixDiffVarPhase(k, KTarget) for k in KSim.getTransPart()]"
   ]
  },
  {
   "cell_type": "code",
   "execution_count": null,
   "metadata": {
    "id": "JASGQcbNFt88"
   },
   "outputs": [],
   "source": [
    "p = figure(plot_width=800, plot_height=400, title=\"Sim Error vs Wavelength\", x_range=[1.4, 1.6], y_range=[-0.1, 3.1])\n",
    "p.line(x=KSim.wls, y=errorsComp, line_color=palettes.Category10[9][0], legend_label=\"Complex Error\")\n",
    "p.line(x=KSim.wls, y=errorsMag, line_color=palettes.Category10[9][1], legend_label=\"Mag Error\")\n",
    "p.line(x=KSim.wls, y=errorsMagVarPh, line_color=palettes.Category10[9][2], legend_label=\"Complex Error var Phase\")\n",
    "show(p)"
   ]
  },
  {
   "cell_type": "code",
   "execution_count": null,
   "metadata": {
    "id": "5W6cHLLSIX97"
   },
   "outputs": [],
   "source": [
    "ff = 1.0\n",
    "p = figure(plot_width=850, plot_height=400, title=KName+' Single Power Transmissions', x_range=[1.400,1.600], y_range=[0, 0.2])\n",
    "# p.update_layout(shapes=[dict(type= 'line', yref= 'paper', y0= 0, y1= 1, xref= 'x', x0= 1.525, x1= 1.525)])\n",
    "p.xaxis.axis_label = 'wavelength (um)'\n",
    "p.yaxis.axis_label = 'T'\n",
    "for t in [1,2,3]:\n",
    "    color = palettes.Category10[9][t]\n",
    "    for r in [4,5,6]:\n",
    "        p.line( KSim['wls'], np.abs(ff*KSim[r,t])**2, line_color=color, line_width=2, legend_label=\"abs(S\"+str(r)+str(t)+\")^2\")\n",
    "        val = np.abs(KTarget[r-3-1,t-1])**2\n",
    "        p.circle([1.525], [val], size=10, color=color)\n",
    "for t in [1,2,3]:\n",
    "    color = palettes.Category10[9][t]\n",
    "    for r in [4,5,6]:\n",
    "        dataFName = KName+'_'+'T'+str(r)+str(t)\n",
    "        try:\n",
    "            wlsExp, valsExp = getExpTrace(dataFName)\n",
    "            p.line( wlsExp, valsExp, line_color=color, line_width=2, line_dash='dashed')\n",
    "        except:\n",
    "            pass\n",
    "show(p)"
   ]
  },
  {
   "cell_type": "code",
   "execution_count": null,
   "metadata": {
    "id": "mCPOgiBodTLc"
   },
   "outputs": [],
   "source": [
    "rPairs = [(4,5), (5,6), (4,6)]\n",
    "p = figure(plot_width=850, plot_height=400, title=KName + ' Interferred Transmission Powers', x_range=[1.400,1.600], y_range=[0, 0.15])\n",
    "p.xaxis.axis_label = 'wavelength (um)'\n",
    "p.yaxis.axis_label = 'T'\n",
    "cIndex = 0\n",
    "for t in [1,2,3]:\n",
    "    for rPair in rPairs:\n",
    "        color = palettes.Category10[9][cIndex]\n",
    "        cIndex += 1\n",
    "        r1, r2 = rPair\n",
    "        p.line( KSim['wls'], np.abs(KSim[r1,t] + KSim[r2,t])**2, line_color=color, line_width=2, legend_label=\"abs(S\"+str(r1)+str(t)+\" + S\"+str(r2)+str(t)+\")^2\")\n",
    "for t in [1,2,3]:\n",
    "    color = palettes.Category10[9][t]\n",
    "    for rPair in rPairs:\n",
    "        r1, r2 = rPair\n",
    "        dataFName = KName+'_'+'T'+str(r1)+str(t)+'_T'+str(r1)+str(t)\n",
    "        try:\n",
    "            wlsExp, valsExp = getExpTrace(dataFName)\n",
    "            p.line( wlsExp, valsExp, line_color=color, line_width=2, line_dash='dashed')\n",
    "        except:\n",
    "            pass\n",
    "show(p)"
   ]
  },
  {
   "cell_type": "markdown",
   "metadata": {
    "heading_collapsed": "true",
    "id": "xITOttcEac0X"
   },
   "source": [
    "## K2 Analysis"
   ]
  },
  {
   "cell_type": "code",
   "execution_count": null,
   "metadata": {
    "id": "SI-hQWKAac0Z"
   },
   "outputs": [],
   "source": [
    "KSim = K2Sim\n",
    "KTarget = K2Target.conj() * np.exp(1j*0*deg)\n",
    "KName = 'K2'"
   ]
  },
  {
   "cell_type": "code",
   "execution_count": null,
   "metadata": {
    "id": "dMeGrqs6ac0d"
   },
   "outputs": [],
   "source": [
    "ind = find_nearest_index(KSim['wls'], 1.525)\n",
    "STransAtWL = KSim.getTransPart()[ind]\n",
    "wl = round(KSim['wls'][ind],4)"
   ]
  },
  {
   "cell_type": "code",
   "execution_count": null,
   "metadata": {
    "id": "cjTEDTSeac0i"
   },
   "outputs": [],
   "source": [
    "p = makePolarPlot(KName+' '+str(wl)+'(um)')\n",
    "addMatrixDiff(p, KTarget, STransAtWL)\n",
    "show(p)"
   ]
  },
  {
   "cell_type": "code",
   "execution_count": null,
   "metadata": {
    "id": "aW_CoU7Jac0k"
   },
   "outputs": [],
   "source": [
    "errorsComp = [matrixDiffMag(k, KTarget) for k in KSim.getTransPart()]\n",
    "errorsMag = [matrixMagDiffMag(k, KTarget) for k in KSim.getTransPart()]\n",
    "errorsMagVarPh = [matrixDiffVarPhase(k, KTarget) for k in KSim.getTransPart()]"
   ]
  },
  {
   "cell_type": "code",
   "execution_count": null,
   "metadata": {
    "id": "eNscjpZBac0m"
   },
   "outputs": [],
   "source": [
    "p = figure(plot_width=800, plot_height=400, title=\"Sim Error vs Wavelength\", x_range=[1.4, 1.6], y_range=[-0.1, 6.1])\n",
    "p.line(x=KSim.wls, y=errorsComp, line_color=palettes.Category10[9][0], legend_label=\"Complex Error\")\n",
    "p.line(x=KSim.wls, y=errorsMag, line_color=palettes.Category10[9][1], legend_label=\"Mag Error\")\n",
    "p.line(x=KSim.wls, y=errorsMagVarPh, line_color=palettes.Category10[9][2], legend_label=\"Complex Error var Phase\")\n",
    "show(p)"
   ]
  },
  {
   "cell_type": "code",
   "execution_count": null,
   "metadata": {
    "id": "7MOX6iCUac0q"
   },
   "outputs": [],
   "source": [
    "ff = 1.0\n",
    "p = figure(plot_width=850, plot_height=400, title=KName+' Single Power Transmissions', x_range=[1.400,1.600], y_range=[0, 0.45])\n",
    "# p.update_layout(shapes=[dict(type= 'line', yref= 'paper', y0= 0, y1= 1, xref= 'x', x0= 1.525, x1= 1.525)])\n",
    "cIndex = 0\n",
    "for t in [1,2,3]:\n",
    "    for r in [4,5,6]:\n",
    "        color = palettes.Category10[9][cIndex]\n",
    "        cIndex +=1\n",
    "        p.line( KSim['wls'], np.abs(ff*KSim[r,t])**2, line_color=color, line_width=2, legend_label=\"abs(S\"+str(r)+str(t)+\")^2\")\n",
    "        val = np.abs(KTarget[r-3-1,t-1])**2\n",
    "        p.circle([1.525], [val], size=10, color=color)\n",
    "p.xaxis.axis_label = 'wavelength (um)'\n",
    "p.yaxis.axis_label = 'T'\n",
    "show(p)"
   ]
  },
  {
   "cell_type": "code",
   "execution_count": null,
   "metadata": {
    "id": "VPSSqHvoac0t"
   },
   "outputs": [],
   "source": [
    "rPairs = [(4,5), (5,6), (4,6)]\n",
    "p = figure(plot_width=850, plot_height=400, title=KName + ' Interferred Transmission Powers', x_range=[1.400,1.600], y_range=[0, 0.60])\n",
    "# p.update_layout(shapes=[dict(type= 'line', yref= 'paper', y0= 0, y1= 1, xref= 'x', x0= 1.525, x1= 1.525)])\n",
    "cIndex = 0\n",
    "for t in [1,2,3]:\n",
    "    for rPair in rPairs:\n",
    "        color = palettes.Category10[9][cIndex]\n",
    "        cIndex += 1\n",
    "        r1, r2 = rPair\n",
    "        p.line( KSim['wls'], np.abs(KSim[r1,t] + KSim[r2,t])**2, line_color=color, line_width=2, legend_label=\"abs(S\"+str(r1)+str(t)+\" + S\"+str(r2)+str(t)+\")^2\")\n",
    "p.xaxis.axis_label = 'wavelength (um)'\n",
    "p.yaxis.axis_label = 'T'\n",
    "show(p)"
   ]
  },
  {
   "cell_type": "code",
   "execution_count": null,
   "metadata": {
    "id": "xFoGDNclnQEf"
   },
   "outputs": [],
   "source": []
  },
  {
   "cell_type": "markdown",
   "metadata": {
    "heading_collapsed": "true",
    "id": "ddHgvotnnR0v"
   },
   "source": [
    "## K3 Analysis"
   ]
  },
  {
   "cell_type": "code",
   "execution_count": null,
   "metadata": {
    "id": "M3OOoCvW6guG"
   },
   "outputs": [],
   "source": [
    "K3Exp1525PD = {'T41':  55, 'T42': 107, 'T43':  63,\n",
    "                'T51': 126, 'T52':  39, 'T53':  59,\n",
    "                'T61':  46, 'T62':  49, 'T63': 105}"
   ]
  },
  {
   "cell_type": "code",
   "execution_count": null,
   "metadata": {},
   "outputs": [],
   "source": [
    "K3Exp1525PDInt = {'T41_T51':110, 'T42_T52':125, 'T43_T53': 70,\n",
    "                  'T51_T61':120, 'T52_T62': 36, 'T53_T63':135,\n",
    "                  'T41_T61': 99, 'T42_T62': 75, 'T43_T63':121}"
   ]
  },
  {
   "cell_type": "code",
   "execution_count": null,
   "metadata": {},
   "outputs": [],
   "source": [
    "sorted(list(K3Exp1525PDInt.keys())) == sorted(genInterferenceLabels(6))"
   ]
  },
  {
   "cell_type": "code",
   "execution_count": null,
   "metadata": {},
   "outputs": [],
   "source": [
    "KName = \"K3\""
   ]
  },
  {
   "cell_type": "code",
   "execution_count": null,
   "metadata": {
    "colab": {
     "base_uri": "https://localhost:8080/"
    },
    "id": "DxntQwW_nR0w",
    "outputId": "50b37940-e744-4136-cde5-c2889a3330d3"
   },
   "outputs": [],
   "source": [
    "KSim2D = SimSParams('Simulations/K3_2DEIA_SIM3.txt')\n",
    "KSim = SimSParams('Simulations/K3_SIM3.txt')"
   ]
  },
  {
   "cell_type": "code",
   "execution_count": null,
   "metadata": {},
   "outputs": [],
   "source": [
    "KTarg = TargSParams('K3')"
   ]
  },
  {
   "cell_type": "code",
   "execution_count": null,
   "metadata": {},
   "outputs": [],
   "source": [
    "p = PolarPlot(KName)\n",
    "p.addMatrix(KTarg.getSTransPart())\n",
    "p.show()"
   ]
  },
  {
   "cell_type": "code",
   "execution_count": null,
   "metadata": {},
   "outputs": [],
   "source": [
    "KExp = ExpResult(K3Exp1525PD, 6)\n",
    "KExp = ExpResult({**K3Exp1525PD, **K3Exp1525PDInt}, 6)"
   ]
  },
  {
   "cell_type": "code",
   "execution_count": null,
   "metadata": {
    "colab": {
     "base_uri": "https://localhost:8080/"
    },
    "id": "HO4QSvO8VUM8",
    "outputId": "d4029828-b2b6-4839-b069-ede894bb76aa"
   },
   "outputs": [],
   "source": [
    "KSim2D.resetCorrectionFactor()\n",
    "CF = findSingleRotCF(KSim2D.getSTransPart(1.525), KTarg.getSTransPart())"
   ]
  },
  {
   "cell_type": "code",
   "execution_count": null,
   "metadata": {
    "id": "8J-xQzA6VdTs"
   },
   "outputs": [],
   "source": [
    "KSim2D.applyCorrectionFactor(CF)"
   ]
  },
  {
   "cell_type": "code",
   "execution_count": null,
   "metadata": {},
   "outputs": [],
   "source": [
    "p = PolarPlot(KName)\n",
    "p.addMatrixDiff(KTarg.getSTransPart(), KSim2D.getSTransPart(1.525))\n",
    "p.show()"
   ]
  },
  {
   "cell_type": "code",
   "execution_count": null,
   "metadata": {
    "colab": {
     "base_uri": "https://localhost:8080/",
     "height": 417
    },
    "id": "ll_wO95WVvHN",
    "outputId": "e6e82f57-66b4-4096-c249-29a51876bc24"
   },
   "outputs": [],
   "source": [
    "p = makePhErrorSimPlot(KName, KTarg, KSim2D)\n",
    "show(p)"
   ]
  },
  {
   "cell_type": "code",
   "execution_count": null,
   "metadata": {
    "colab": {
     "base_uri": "https://localhost:8080/"
    },
    "id": "tginUQzeBWd1",
    "outputId": "ab695bc7-00d5-4baa-bfd7-f9670f3cfc52"
   },
   "outputs": [],
   "source": [
    "KSim.resetCorrectionFactor()\n",
    "CF = findDoubleRotCF(KSim.getSTransPart(1.525), KTarg.getSTransPart())"
   ]
  },
  {
   "cell_type": "code",
   "execution_count": null,
   "metadata": {
    "id": "_5YWAcNPRlZh"
   },
   "outputs": [],
   "source": [
    "KSim.applyCorrectionFactor(CF)"
   ]
  },
  {
   "cell_type": "code",
   "execution_count": null,
   "metadata": {},
   "outputs": [],
   "source": [
    "p = PolarPlot(KName)\n",
    "p.addMatrixDiff(KTarg.getSTransPart(), KSim.getSTransPart(1.525))\n",
    "p.show()"
   ]
  },
  {
   "cell_type": "code",
   "execution_count": null,
   "metadata": {
    "colab": {
     "base_uri": "https://localhost:8080/",
     "height": 417
    },
    "id": "xFsxGlk4CBNE",
    "outputId": "59b79b2f-5082-4a4b-d0e9-032932925df8"
   },
   "outputs": [],
   "source": [
    "p = makePhErrorSimPlot(KName, KTarg, KSim)\n",
    "show(p)"
   ]
  },
  {
   "cell_type": "code",
   "execution_count": null,
   "metadata": {
    "id": "IlrX44noJF5x"
   },
   "outputs": [],
   "source": [
    "KSim.resetCorrectionFactor()"
   ]
  },
  {
   "cell_type": "code",
   "execution_count": null,
   "metadata": {
    "id": "C2h-s4m6dg1l"
   },
   "outputs": [],
   "source": [
    "KExp.resetCorrectionFactor()\n",
    "sf = findSF(KExp.getTTransPart(), KSim.getTTransPart(1.525))\n",
    "KExp.applyCorrectionFactor(sf)"
   ]
  },
  {
   "cell_type": "code",
   "execution_count": null,
   "metadata": {
    "colab": {
     "base_uri": "https://localhost:8080/",
     "height": 417
    },
    "id": "djq2lEfV1xZB",
    "outputId": "b2a9db5d-73fe-44f8-8a15-b23a7aed4250"
   },
   "outputs": [],
   "source": [
    "p = makeDispersionPlot(KName, 0.6)\n",
    "addSimTraces(p, KSim, (4,5,6), (1,2,3))\n",
    "addTargDots(p, KTarg, (4,5,6), (1,2,3))\n",
    "addExpDots(p, KExp, (4,5,6), (1,2,3))\n",
    "show(p)"
   ]
  },
  {
   "cell_type": "code",
   "execution_count": null,
   "metadata": {
    "colab": {
     "base_uri": "https://localhost:8080/",
     "height": 317
    },
    "id": "lKos5pOk0uBm",
    "outputId": "77a8ce80-0672-42b1-82bf-c31384d80393"
   },
   "outputs": [],
   "source": [
    "KExp.resetCorrectionFactor()\n",
    "KExp.applyCorrectionFactor()\n",
    "KExp.resetCorrectionFactor()\n",
    "KExp.applyCorrectionFactor(sf)\n",
    "p = MakePowerBarPlot(KTarg, KSim, KExp, (4, 5, 6), (1, 2, 3))\n",
    "show(p)"
   ]
  },
  {
   "cell_type": "code",
   "execution_count": null,
   "metadata": {
    "id": "VMe6RAhur0BB"
   },
   "outputs": [],
   "source": [
    "KExp.applyCorrectionFactor(0.001)"
   ]
  },
  {
   "cell_type": "code",
   "execution_count": null,
   "metadata": {},
   "outputs": [],
   "source": [
    "labels = genInterferenceLabels(6)"
   ]
  },
  {
   "cell_type": "code",
   "execution_count": null,
   "metadata": {},
   "outputs": [],
   "source": [
    "p = MakeInterPowerBarPlot(KTarg, KSim, KExp, labels)\n",
    "show(p)"
   ]
  },
  {
   "cell_type": "markdown",
   "metadata": {
    "id": "HGKJx2RkU_Y6"
   },
   "source": [
    "## K4"
   ]
  },
  {
   "cell_type": "code",
   "execution_count": null,
   "metadata": {
    "id": "dyeIrFRj9ED4"
   },
   "outputs": [],
   "source": [
    "K4Exp1525PD = {'T31':  55, 'T32': 107, \n",
    "               'T41': 126, 'T42':  39,\n",
    "              'T31_T41':110, 'T32_T42':125}"
   ]
  },
  {
   "cell_type": "code",
   "execution_count": null,
   "metadata": {},
   "outputs": [],
   "source": [
    "KTarg = TargSParams('K4')\n",
    "KName = 'K4'"
   ]
  },
  {
   "cell_type": "code",
   "execution_count": null,
   "metadata": {},
   "outputs": [],
   "source": [
    "print(KTarg.getSTransPart())"
   ]
  },
  {
   "cell_type": "code",
   "execution_count": null,
   "metadata": {},
   "outputs": [],
   "source": [
    "p = PolarPlot(KName)\n",
    "p.addMatrix(KTarg.getSTransPart())\n",
    "p.show()"
   ]
  },
  {
   "cell_type": "code",
   "execution_count": null,
   "metadata": {},
   "outputs": [],
   "source": [
    "KSim2D = SimSParams('Simulations//K4_2DEIA_SIM3.txt')\n",
    "KSim = SimSParams(\"Simulations/K4_SIM4.txt\", \"Simulations/Cal4_Sim4.txt\")"
   ]
  },
  {
   "cell_type": "code",
   "execution_count": null,
   "metadata": {},
   "outputs": [],
   "source": [
    "KExpSpect = ExpResultSpect('K4', n=4, scaleFactor=2.5)"
   ]
  },
  {
   "cell_type": "code",
   "execution_count": null,
   "metadata": {},
   "outputs": [],
   "source": [
    "#KExp = ExpResult(K4Exp1525PD, n=4, WL=1.525, scaleFactor=2.5)"
   ]
  },
  {
   "cell_type": "code",
   "execution_count": null,
   "metadata": {
    "colab": {
     "base_uri": "https://localhost:8080/"
    },
    "id": "eT1pUiF__EUk",
    "outputId": "9226182f-0949-4844-dbd4-9ca0870b3fa5"
   },
   "outputs": [],
   "source": [
    "KSim2D.getSTransPart(1.525)"
   ]
  },
  {
   "cell_type": "code",
   "execution_count": null,
   "metadata": {
    "colab": {
     "base_uri": "https://localhost:8080/"
    },
    "id": "z24CKRtJ_Gll",
    "outputId": "e3200b7d-aad2-431b-ada1-3133fd468ca6"
   },
   "outputs": [],
   "source": [
    "KTarg.getSTransPart()"
   ]
  },
  {
   "cell_type": "code",
   "execution_count": null,
   "metadata": {},
   "outputs": [],
   "source": [
    "p = PolarPlot(KName)\n",
    "p.addMatrixDiff(KTarg.getSTransPart(), KSim2D.getSTransPart(1.525))\n",
    "p.show()"
   ]
  },
  {
   "cell_type": "code",
   "execution_count": null,
   "metadata": {
    "colab": {
     "base_uri": "https://localhost:8080/"
    },
    "id": "swMBoLDR9EEA",
    "outputId": "14e10806-94dc-4b40-ee1f-d5f50c7f7ce0"
   },
   "outputs": [],
   "source": [
    "KSim2D.resetCorrectionFactor()\n",
    "CF = findSingleRotCF(KSim2D.getSTransPart(1.525), KTarg.getSTransPart())"
   ]
  },
  {
   "cell_type": "code",
   "execution_count": null,
   "metadata": {
    "id": "NyPvqHXs9EED"
   },
   "outputs": [],
   "source": [
    "KSim2D.applyCorrectionFactor(CF)"
   ]
  },
  {
   "cell_type": "code",
   "execution_count": null,
   "metadata": {
    "colab": {
     "base_uri": "https://localhost:8080/",
     "height": 417
    },
    "id": "KmVjXSfr9EEE",
    "outputId": "e41ba1e5-7c00-4f36-b976-eb77170d0199"
   },
   "outputs": [],
   "source": [
    "p = PolarPlot(KName)\n",
    "p.addMatrixDiff(KTarg.getSTransPart(), KSim2D.getSTransPart(1.525))\n",
    "p.show()"
   ]
  },
  {
   "cell_type": "code",
   "execution_count": null,
   "metadata": {
    "colab": {
     "base_uri": "https://localhost:8080/",
     "height": 417
    },
    "id": "NAm5YKhf9EEG",
    "outputId": "584b5070-ae0c-4ee5-c150-c812b85e4058"
   },
   "outputs": [],
   "source": [
    "# p = makePhErrorSimPlot(KName, KTarg, KSim2D)\n",
    "# show(p)"
   ]
  },
  {
   "cell_type": "code",
   "execution_count": null,
   "metadata": {},
   "outputs": [],
   "source": [
    "KSim.getSTrace(3,1);"
   ]
  },
  {
   "cell_type": "code",
   "execution_count": null,
   "metadata": {},
   "outputs": [],
   "source": [
    "p = PolarPlot(KName)\n",
    "p.addMatrixDiff(KTarg.getSTransPart(), KSim.getSTransPart(1.525))\n",
    "p.show()"
   ]
  },
  {
   "cell_type": "code",
   "execution_count": null,
   "metadata": {
    "colab": {
     "base_uri": "https://localhost:8080/"
    },
    "id": "_ImLtfXp9EEH",
    "outputId": "ba3d90e6-70a8-4f7b-d562-23e806495384"
   },
   "outputs": [],
   "source": [
    "KSim.resetCorrectionFactor()\n",
    "CF = findSingleRotCF(KSim.getSTransPart(1.525), KTarg.getSTransPart())"
   ]
  },
  {
   "cell_type": "code",
   "execution_count": null,
   "metadata": {
    "id": "hIBPvuzy9EEM"
   },
   "outputs": [],
   "source": [
    "KSim.applyCorrectionFactor(CF)"
   ]
  },
  {
   "cell_type": "code",
   "execution_count": null,
   "metadata": {
    "colab": {
     "base_uri": "https://localhost:8080/",
     "height": 417
    },
    "id": "abwW6tsB9EEO",
    "outputId": "c2ae6d8e-3888-4b8f-903d-83f44e532613"
   },
   "outputs": [],
   "source": [
    "p = PolarPlot(KName)\n",
    "p.addMatrixDiff(KTarg.getSTransPart(), KSim.getSTransPart(1.525))\n",
    "p.show()"
   ]
  },
  {
   "cell_type": "code",
   "execution_count": null,
   "metadata": {
    "id": "suUIhCzP9EES"
   },
   "outputs": [],
   "source": [
    "KSim.resetCorrectionFactor()"
   ]
  },
  {
   "cell_type": "code",
   "execution_count": null,
   "metadata": {},
   "outputs": [],
   "source": [
    "KExpSpect.importGCEffCurve(\"./Simulations/GC_V1.csv\", wlSF=1-0.000, fillValue=100)\n",
    "KExpSpect.applyCorrectionFactor(0.55)"
   ]
  },
  {
   "cell_type": "code",
   "execution_count": null,
   "metadata": {},
   "outputs": [],
   "source": [
    "KExpSpect.getMeasurement('T31');"
   ]
  },
  {
   "cell_type": "code",
   "execution_count": null,
   "metadata": {},
   "outputs": [],
   "source": [
    "p = DispersionPlot(\"Standard Transmission Measurements\", \"T\", [1.4, 1.6], [0, 0.3])\n",
    "for name in genTransLabels(4):\n",
    "    p.addPairedTraces(KSim.getMeasurement(name), KExpSpect.getMeasurement(name), name)\n",
    "    # p.addPoint(KExp.getMeasurement(name), name)\n",
    "p.show()"
   ]
  },
  {
   "cell_type": "code",
   "execution_count": null,
   "metadata": {},
   "outputs": [],
   "source": [
    "KSim.resetCorrectionFactor()\n",
    "KExpSpect.resetCorrectionFactor()\n",
    "\n",
    "measurements = genTransLabels(4)\n",
    "pbp = PowerBarPlot(cats=measurements, \n",
    "                   subCats=['targ', 'sim', 'exp'], \n",
    "                   title='Standard Transmission Measurements')\n",
    "pbp.addData('targ', [KTarg.getMeasurementAt(m, 1.525) for m in measurements], sf=1)\n",
    "pbp.addData( 'sim', [KSim.getMeasurementAt(m, 1.525) for m in measurements], sf=1.45)\n",
    "pbp.addData( 'exp', [KExpSpect.getMeasurementAt(m, 1.525) for m in measurements], sf=0.9)\n",
    "pbp.build()"
   ]
  },
  {
   "cell_type": "code",
   "execution_count": null,
   "metadata": {},
   "outputs": [],
   "source": [
    "KExpSpect.applyCorrectionFactor(0.2)\n",
    "p = DispersionPlot(\"Intra Kernel Interference\", \"T\", [1.4, 1.6], [0, 0.3])\n",
    "for name in genInterferenceLabels(4):\n",
    "    p.addPairedTraces(KSim.getMeasurement(name), KExpSpect.getMeasurement(name), name)\n",
    "p.show()"
   ]
  },
  {
   "cell_type": "code",
   "execution_count": null,
   "metadata": {},
   "outputs": [],
   "source": [
    "KSim.resetCorrectionFactor()\n",
    "KExpSpect.resetCorrectionFactor()\n",
    "\n",
    "measurements = genInterferenceLabels(4)\n",
    "pbp = PowerBarPlot(cats=measurements, \n",
    "                   subCats=['targ', 'sim', 'exp'], \n",
    "                   title='Internal Interference Measurements')\n",
    "pbp.addData('targ', [KTarg.getMeasurementAt(m, 1.525) for m in measurements], sf=1)\n",
    "pbp.addData( 'sim', [KSim.getMeasurementAt(m, 1.525) for m in measurements], sf=1.5)\n",
    "pbp.addData( 'exp', [KExpSpect.getMeasurementAt(m, 1.525) for m in measurements], sf=0.3)\n",
    "pbp.build()"
   ]
  },
  {
   "cell_type": "code",
   "execution_count": null,
   "metadata": {},
   "outputs": [],
   "source": [
    "KExpSpect.applyCorrectionFactor(0.30)\n",
    "p = DispersionPlot(\"Reference Waveguide Measurements\", 'T', [1.4, 1.6], [0, 0.08])\n",
    "labels = ('T31_R', 'T42_R')\n",
    "for name in labels:\n",
    "    p.addPairedTraces(KSim.getMeasurement(name), KExpSpect.getMeasurement(name), name)\n",
    "p.show()"
   ]
  },
  {
   "cell_type": "code",
   "execution_count": null,
   "metadata": {},
   "outputs": [],
   "source": [
    "KSim.resetCorrectionFactor()\n",
    "KExpSpect.resetCorrectionFactor()\n",
    "\n",
    "measurements = ['T31_R', 'T42_R']\n",
    "pbp = PowerBarPlot(cats=measurements, \n",
    "                   subCats=['sim', 'exp'], \n",
    "                   title='Internal Interference Measurements')\n",
    "#pbp.addData('targ', [KTarg.getMeasurementAt(m, 1.525) for m in measurements], sf=1)\n",
    "pbp.addData( 'sim', [KSim.getMeasurementAt(m, 1.525) for m in measurements], sf=1.5)\n",
    "pbp.addData( 'exp', [KExpSpect.getMeasurementAt(m, 1.525) for m in measurements], sf=0.3)\n",
    "pbp.build()"
   ]
  },
  {
   "cell_type": "code",
   "execution_count": null,
   "metadata": {
    "id": "7ikk8u2R9EEU"
   },
   "outputs": [],
   "source": [
    "KExp.resetCorrectionFactor()\n",
    "sf = findSF(KExp.getPTransPart(), KSim.getPTransPartAtWL(1.525))\n",
    "KExp.applyCorrectionFactor(sf)"
   ]
  },
  {
   "cell_type": "code",
   "execution_count": null,
   "metadata": {
    "colab": {
     "base_uri": "https://localhost:8080/",
     "height": 417
    },
    "id": "LBCd1icg9EEW",
    "outputId": "48554826-2ab1-4534-a196-5370c52e005c"
   },
   "outputs": [],
   "source": [
    "p = DispersionPlot(KName, 0.6)\n",
    "p.addSimTraces(p, KSim, (3,4), (1,2))\n",
    "addTargDots(p, KTarg, (3,4), (1,2))\n",
    "addExpDots(p, KExp, (3,4), (1,2))\n",
    "show(p)"
   ]
  },
  {
   "cell_type": "code",
   "execution_count": null,
   "metadata": {
    "colab": {
     "base_uri": "https://localhost:8080/",
     "height": 317
    },
    "id": "eBYk6zV59EEZ",
    "outputId": "239fa99e-e84b-434d-95c0-e0226f59c38a"
   },
   "outputs": [],
   "source": [
    "p = MakePowerBarPlot(KTarg, KSim, KExp, (3,4), (1, 2))\n",
    "show(p)"
   ]
  },
  {
   "cell_type": "code",
   "execution_count": null,
   "metadata": {
    "id": "hSNKuPQO9EEc"
   },
   "outputs": [],
   "source": [
    "sf = findSF(KExp.getPTransPart(), KSim.getPTransPartAtWL(1.525))"
   ]
  },
  {
   "cell_type": "code",
   "execution_count": null,
   "metadata": {
    "id": "y2O8-IJr9EEd"
   },
   "outputs": [],
   "source": [
    "KExpInt.applyCorrectionFactor(0.0045)"
   ]
  },
  {
   "cell_type": "code",
   "execution_count": null,
   "metadata": {
    "colab": {
     "base_uri": "https://localhost:8080/",
     "height": 417
    },
    "id": "WVWf6Tra9EEg",
    "outputId": "68d91e86-fea7-42f6-b4a8-2bfae3df1b47"
   },
   "outputs": [],
   "source": [
    "rPairs = [(3,4)]\n",
    "tVals = [1,2]\n",
    "p = makeInterDispersionPlot(KName, 1.5)\n",
    "addSimTraces1(p, KSim, rPairs, tVals)\n",
    "addTargDots1(p, KTarg, rPairs, tVals)\n",
    "addExpDots1(p, KExpInt, rPairs, tVals)\n",
    "show(p)"
   ]
  },
  {
   "cell_type": "code",
   "execution_count": null,
   "metadata": {
    "colab": {
     "base_uri": "https://localhost:8080/",
     "height": 317
    },
    "id": "lH7JViEK9EEi",
    "outputId": "5ea9590b-d3bb-4e6f-b25a-84ef56706c78"
   },
   "outputs": [],
   "source": [
    "p = MakeInterPowerBarPlot(KTarg, KSim, KExpInt, ((3,4),), (1,2))\n",
    "show(p)"
   ]
  },
  {
   "cell_type": "markdown",
   "metadata": {
    "heading_collapsed": "true",
    "id": "pYb403MM--p-"
   },
   "source": [
    "# Scrap"
   ]
  },
  {
   "cell_type": "code",
   "execution_count": null,
   "metadata": {
    "colab": {
     "base_uri": "https://localhost:8080/"
    },
    "id": "eHguVv5VmPWc",
    "outputId": "925c4bcd-eaf4-4ae7-d550-bc4c409b4cfe"
   },
   "outputs": [],
   "source": [
    "getExpTrace(\"/content/SiPhDataStore/K4_V2/K4T31_n15dBm_44d5K.csv\")"
   ]
  },
  {
   "cell_type": "code",
   "execution_count": null,
   "metadata": {},
   "outputs": [],
   "source": [
    "import pandas as pd\n",
    "df=pd.read_csv(\"./Simulations/GC_V1.csv\", sep=',',header=None)"
   ]
  },
  {
   "cell_type": "code",
   "execution_count": null,
   "metadata": {},
   "outputs": [],
   "source": [
    "df"
   ]
  },
  {
   "cell_type": "code",
   "execution_count": null,
   "metadata": {
    "id": "yUVdyHtSnlf7"
   },
   "outputs": [],
   "source": [
    "import pandas as pd\r\n",
    "df=pd.read_csv\"/content/SiPhDataStore/Simulations/GC_V1.csv\"\", sep=',',header=None)"
   ]
  },
  {
   "cell_type": "code",
   "execution_count": null,
   "metadata": {
    "id": "jM5EP43mnw_z"
   },
   "outputs": [],
   "source": [
    "K4T31 = np.array(df)"
   ]
  },
  {
   "cell_type": "markdown",
   "metadata": {
    "id": "tE2KyW9e_1z7"
   },
   "source": [
    "## Bar Charts"
   ]
  },
  {
   "cell_type": "code",
   "execution_count": null,
   "metadata": {
    "id": "yiI8O_JILE7Q"
   },
   "outputs": [],
   "source": [
    "getExpTrace()"
   ]
  },
  {
   "cell_type": "code",
   "execution_count": null,
   "metadata": {},
   "outputs": [],
   "source": []
  }
 ],
 "metadata": {
  "colab": {
   "collapsed_sections": [
    "bP7PD8Zx2XAj",
    "HmmMzqtMp-Td",
    "Ho7-ua1gb9fC",
    "k9Syv88AAFxF",
    "5uGw4oa_CWp8",
    "TULf6-xUCd4T",
    "ieaF5rCpCpnj",
    "Q7E3T1WN8DqI",
    "pji9AQNn0foe",
    "UC0SmOy1jK8F",
    "xITOttcEac0X",
    "ddHgvotnnR0v",
    "pYb403MM--p-",
    "tE2KyW9e_1z7"
   ],
   "name": "Swiss Cheese SiPh Post Processing.ipynb",
   "provenance": [],
   "toc_visible": true
  },
  "kernelspec": {
   "display_name": "Python 3",
   "language": "python",
   "name": "python3"
  },
  "language_info": {
   "codemirror_mode": {
    "name": "ipython",
    "version": 3
   },
   "file_extension": ".py",
   "mimetype": "text/x-python",
   "name": "python",
   "nbconvert_exporter": "python",
   "pygments_lexer": "ipython3",
   "version": "3.8.5"
  }
 },
 "nbformat": 4,
 "nbformat_minor": 4
}
