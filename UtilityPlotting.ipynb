{
 "cells": [
  {
   "cell_type": "markdown",
   "metadata": {},
   "source": [
    "### Stock Imports"
   ]
  },
  {
   "cell_type": "code",
   "execution_count": null,
   "metadata": {},
   "outputs": [],
   "source": [
    "import numpy as np"
   ]
  },
  {
   "cell_type": "code",
   "execution_count": null,
   "metadata": {
    "colab": {
     "base_uri": "https://localhost:8080/"
    },
    "id": "XonCSavOmKU2",
    "outputId": "fddeb788-9713-403b-ea38-8fec06372167"
   },
   "outputs": [],
   "source": [
    "import bokeh\n",
    "from bokeh.io import output_notebook\n",
    "from bokeh.plotting import figure, show\n",
    "from bokeh.models import ColumnDataSource, Text\n",
    "from bokeh.io import output_file, show\n",
    "from bokeh.models import ColumnDataSource\n",
    "from bokeh.plotting import figure\n",
    "from bokeh.transform import dodge\n",
    "import bokeh.palettes as palettes\n",
    "\n",
    "print(\"Bokeh Version:\", bokeh.__version__)\n",
    "\n",
    "output_notebook()\n",
    "bokeh.io.curdoc().theme = 'dark_minimal'"
   ]
  },
  {
   "cell_type": "markdown",
   "metadata": {},
   "source": [
    "### Custom Imports"
   ]
  },
  {
   "cell_type": "code",
   "execution_count": null,
   "metadata": {},
   "outputs": [],
   "source": [
    "from UtilityMath import RandomComplexGaussianMatrix"
   ]
  },
  {
   "cell_type": "code",
   "execution_count": null,
   "metadata": {},
   "outputs": [],
   "source": [
    "mainQ =(__name__ == '__main__')\n",
    "mainQ"
   ]
  },
  {
   "cell_type": "markdown",
   "metadata": {
    "id": "5uGw4oa_CWp8"
   },
   "source": [
    "#### Polar Error Plot"
   ]
  },
  {
   "cell_type": "code",
   "execution_count": null,
   "metadata": {},
   "outputs": [],
   "source": [
    "class PolarPlot:\n",
    "    \n",
    "    def __init__(self, title):\n",
    "        '''\n",
    "        This will create a Bokeh plot that depicts the unit circle.\n",
    "\n",
    "        Requires import bokeh\n",
    "        '''\n",
    "        p = bokeh.plotting.figure(plot_width=400, plot_height=400, title=title, \n",
    "                                  x_range=[-1.1, 1.1], y_range=[-1.1, 1.1])\n",
    "        p.xaxis[0].ticker=bokeh.models.tickers.FixedTicker(ticks=np.arange(-1, 2, 0.25))\n",
    "        p.yaxis[0].ticker=bokeh.models.tickers.FixedTicker(ticks=np.arange(-1, 2, 0.25)) \n",
    "        p.circle(x = [0,0,0,0], y = [0,0,0,0], radius = [0.25, 0.50, 0.75, 1.0], \n",
    "                 fill_color = None, line_color='gray')\n",
    "        p.line(x=[0,0], y=[-1,1], line_color='gray')\n",
    "        p.line(x=[-1,1], y=[0,0], line_color='gray')\n",
    "        xs = [0.25, 0.50, 0.75, 1.00]\n",
    "        ys = [0, 0, 0, 0]\n",
    "        texts = ['0.25', '0.50', '0.75', '1.00']\n",
    "        source = bokeh.models.ColumnDataSource(dict(x=xs, y=ys, text=texts))\n",
    "        textGlyph = bokeh.models.Text(x=\"x\", y=\"y\", text=\"text\", angle=0.3, \n",
    "                                      text_color=\"gray\", text_font_size='10px')\n",
    "        p.add_glyph(source, textGlyph)\n",
    "        p.xgrid.grid_line_color = None\n",
    "        p.ygrid.grid_line_color = None\n",
    "        self.p = p\n",
    "    \n",
    "    def addMatrixDiff(self, m1, m2):\n",
    "        \"\"\"\n",
    "        This will draw lines showing the difference between two 2D matrices.\n",
    "        \"\"\"\n",
    "        p = self.p\n",
    "        begX = (np.real(m1)).flatten()\n",
    "        begY = (np.imag(m1)).flatten()\n",
    "        endX = (np.real(m2)).flatten()\n",
    "        endY = (np.imag(m2)).flatten()\n",
    "\n",
    "        xs = np.array([begX, endX]).T.tolist()\n",
    "        ys = np.array([begY, endY]).T.tolist()\n",
    "        p.multi_line(xs=xs, ys=ys)\n",
    "\n",
    "        sourceTarg = bokeh.models.ColumnDataSource(dict(x=begX.tolist(), y=begY.tolist()))\n",
    "        glyphTarg = bokeh.models.Circle(x=\"x\", y=\"y\", size=10, line_color=\"green\", \n",
    "                                        fill_color=None, line_width=3)\n",
    "        p.add_glyph(sourceTarg, glyphTarg)\n",
    "\n",
    "        sourceSim = bokeh.models.ColumnDataSource(dict(x=endX.tolist(), y=endY.tolist()))\n",
    "        glyphSim = bokeh.models.Circle(x=\"x\", y=\"y\", size=5, line_color=None, \n",
    "                                       fill_color='red', line_width=3)\n",
    "        p.add_glyph(sourceSim, glyphSim)\n",
    "\n",
    "    def addMatrix(self, m1):\n",
    "        \"\"\"\n",
    "        This will draw lines showing the difference between two 2D matrices.\n",
    "        \"\"\"\n",
    "        p = self.p\n",
    "        X = (np.real(m1)).flatten()\n",
    "        Y = (np.imag(m1)).flatten()\n",
    "        source = bokeh.models.ColumnDataSource(dict(x=X.tolist(), y=Y.tolist()))\n",
    "        glyph = bokeh.models.Circle(x=\"x\", y=\"y\", size=5, line_color=None, \n",
    "                                       fill_color='cyan', line_width=3)\n",
    "        p.add_glyph(source, glyph)\n",
    "        \n",
    "    def show(self):\n",
    "        show(self.p)"
   ]
  },
  {
   "cell_type": "code",
   "execution_count": null,
   "metadata": {},
   "outputs": [],
   "source": [
    "m1 = RandomComplexGaussianMatrix(0.5, (5,5))\n",
    "m2 = m1 + RandomComplexGaussianMatrix(0.05, (5,5))\n",
    "m3 = RandomComplexGaussianMatrix(0.5, (5,5))"
   ]
  },
  {
   "cell_type": "code",
   "execution_count": null,
   "metadata": {},
   "outputs": [],
   "source": [
    "pp = PolarPlot(\"Plot Title\")\n",
    "pp.addMatrixDiff(m1, m2)\n",
    "pp.addMatrix(m3)\n",
    "if mainQ: pp.show()"
   ]
  },
  {
   "cell_type": "markdown",
   "metadata": {},
   "source": [
    "#### Dispersion Plot (Class)"
   ]
  },
  {
   "cell_type": "code",
   "execution_count": null,
   "metadata": {},
   "outputs": [],
   "source": [
    "class DispersionPlot:\n",
    "    \n",
    "    def __init__(self, title, yLabel, xRange, yRange):\n",
    "        self.p = figure(plot_width=850, plot_height=400, title=title, x_range=xRange, y_range=yRange)\n",
    "        # p.update_layout(shapes=[dict(type= 'line', yref= 'paper', y0= 0, y1= 1, xref= 'x', x0= 1.525, x1= 1.525)])\n",
    "        self.p.xaxis.axis_label = 'wavelength (um)'\n",
    "        self.p.yaxis.axis_label = yLabel\n",
    "    \n",
    "    def addPairedTraces(self, traceDataGoal, traceDataExp, name):\n",
    "        p = self.p\n",
    "        color = palettes.Category10[10][hash(name)%10]\n",
    "        self.p.line(traceDataGoal[0], traceDataGoal[1], line_color=color, line_width=1, legend_label=name+\" goal\")\n",
    "        self.p.line(traceDataExp[0],  traceDataExp[1],  line_color=color, line_width=2, legend_label=name+\" exp\")\n",
    "        \n",
    "    def addTrace(self, traceData, name):\n",
    "        color = palettes.Category10[10][hash(name)%10]\n",
    "        self.p.line(traceData[0], traceData[1], line_color=color, line_width=2, legend_label=name)\n",
    "        \n",
    "    def addPoint(self, ptData, name):\n",
    "        color = palettes.Category10[10][hash(name)%10]\n",
    "        self.p.circle(ptData[0], ptData[1], line_color=color, fill_color=color)\n",
    "        \n",
    "    def show(self):\n",
    "        show(self.p)"
   ]
  },
  {
   "cell_type": "code",
   "execution_count": null,
   "metadata": {},
   "outputs": [],
   "source": []
  },
  {
   "cell_type": "code",
   "execution_count": null,
   "metadata": {},
   "outputs": [],
   "source": [
    "wls = np.arange(0.6, 1.4, 0.01)\n",
    "data1a = 0.3*wls**2\n",
    "data1b = 0.3*wls**2+0.04\n",
    "data2 = 1 - 0.3*wls\n",
    "data3 = data2[::20] - 0.05\n",
    "wlsDec = wls[::20]"
   ]
  },
  {
   "cell_type": "code",
   "execution_count": null,
   "metadata": {},
   "outputs": [],
   "source": [
    "dp = DispersionPlot(\"Test Plot\", \"|S|\", [0.5, 1.5], [0, 1])\n",
    "dp.addPairedTraces((wls, data1a), (wls, data1b), \"Trial1\")\n",
    "dp.addTrace((wls, data2), \"Other Data\")\n",
    "dp.addPoint((wlsDec, data3), \"Other Data\")\n",
    "dp.show()"
   ]
  },
  {
   "cell_type": "markdown",
   "metadata": {},
   "source": [
    "#### MakeBarPlot (Class)"
   ]
  },
  {
   "cell_type": "code",
   "execution_count": null,
   "metadata": {},
   "outputs": [],
   "source": [
    "class PowerBarPlot:\n",
    "    \n",
    "    def __init__(self, cats, subCats, title):\n",
    "        self.cats = cats        # ['T31', 'T41', 'T51', ...]\n",
    "        self.subCats = subCats  # ['targ', 'sim', 'exp']\n",
    "        self.title = title\n",
    "        self.data = {}\n",
    "        self.sf = {}\n",
    "        \n",
    "    def addData(self, subCat, data, sf=1):\n",
    "        if subCat not in self.subCats:\n",
    "            print(\"I don't recognize subcat.  Should be one of \", self.subCats)\n",
    "        if len(data) != len(self.cats):\n",
    "            print(\"Incorrect length.  Expecting a 1-to-1 correspondance with \", self.cats)\n",
    "        self.data[subCat] = [sf*d for d in data]\n",
    "        self.sf[subCat] = sf\n",
    "        \n",
    "    def build(self):\n",
    "        self.data['cats'] = self.cats\n",
    "        dodges = (np.linspace(-0.5, 0.5, endpoint=True, num=len(self.subCats)+2)[1:-1]).tolist()\n",
    "        colors = [\"#c9d9d3\", \"#718dbf\", \"#e84d60\"]\n",
    "        colors = colors[:len(self.subCats)]\n",
    "        maxV = np.max([self.data[subCat] for subCat in self.subCats])\n",
    "        p = figure(x_range=self.cats, y_range=(0, 1.2*maxV), plot_width=850, plot_height = 300, \n",
    "               title=self.title, toolbar_location=None, tools=\"\")\n",
    "        source = ColumnDataSource(data=self.data)\n",
    "        for i in range(len(self.subCats)):\n",
    "            sf = self.sf[self.subCats[i]]\n",
    "            if sf == 1:\n",
    "                labelSF = \"\"\n",
    "            else:\n",
    "                labelSF = \" (x \"+str(self.sf[self.subCats[i]])+\")\"\n",
    "            p.vbar(x=dodge('cats', dodges[i], range=p.x_range), top=self.subCats[i], width=0.2, source=source,\n",
    "                   color=colors[i], legend_label=self.subCats[i]+labelSF)\n",
    "        show(p)"
   ]
  },
  {
   "cell_type": "code",
   "execution_count": null,
   "metadata": {},
   "outputs": [],
   "source": [
    "pbp = PowerBarPlot(cats=['apples', 'bananas', 'pears', 'oranges'], \n",
    "                   subCats=['raw', 'ripe', 'rotten'], \n",
    "                   title='Fruit Inventory')\n",
    "pbp.addData(   'raw', [  0, 80, 30, 30], sf=0.1)\n",
    "pbp.addData(  'ripe', [  5,  2,  5,  4])\n",
    "pbp.addData('rotten', [  2,  3,  1,  2])\n",
    "pbp.build()"
   ]
  },
  {
   "cell_type": "code",
   "execution_count": null,
   "metadata": {},
   "outputs": [],
   "source": [
    "def MakePowerBarPlot(KTarg, KSim, KExp, rVals, tVals):\n",
    "    cats = ['T'+str(r)+str(t) for r in rVals for t in tVals]\n",
    "    subCats = ['targ', 'sim', 'exp']\n",
    "    dodges = [-0.25, 0.0, 0.25]\n",
    "    colors = [\"#c9d9d3\", \"#718dbf\", \"#e84d60\"]\n",
    "\n",
    "    targData = KTarg.getPTransPart().flatten().tolist()\n",
    "    simData = KSim.getPTransPartAtWL(1.525).flatten().tolist()\n",
    "    expData = KExp.getPTransPart().flatten().tolist()\n",
    "\n",
    "    data = {'cats' : cats,\n",
    "            'targ' : targData,\n",
    "            'sim' : simData,\n",
    "            'exp' : expData}\n",
    "    source = ColumnDataSource(data=data)\n",
    "\n",
    "    max = np.max((targData,simData,expData))\n",
    "    p = figure(x_range=cats, y_range=(0, 1.2*max), plot_width=850, plot_height = 300, \n",
    "               title=\"Power Comparisons\", toolbar_location=None, tools=\"\")\n",
    "\n",
    "    for i in range(len(subCats)):\n",
    "        p.vbar(x=dodge('cats', dodges[i], range=p.x_range), top=subCats[i], width=0.2, source=source,\n",
    "        color=colors[i], legend_label=subCats[i])\n",
    "\n",
    "    p.x_range.range_padding = 0.1\n",
    "    p.xgrid.grid_line_color = None\n",
    "    p.legend.location = \"top_left\"\n",
    "    p.legend.orientation = \"horizontal\"\n",
    "    return p"
   ]
  },
  {
   "cell_type": "markdown",
   "metadata": {
    "id": "TULf6-xUCd4T"
   },
   "source": [
    "#### Phase Error Simulation Plot"
   ]
  },
  {
   "cell_type": "code",
   "execution_count": null,
   "metadata": {
    "id": "4Q5uZL3fnR04"
   },
   "outputs": [],
   "source": [
    "def makePhErrorSimPlot(KName, KTarg, KSim):\n",
    "    KTarget = KTarg.getSTransPart()\n",
    "    p = figure(plot_width=800, plot_height=400, title=KName + \" Sim Error vs Wavelength\", x_range=[1.4, 1.6], y_range=[-0.1, 6.1])\n",
    "\n",
    "    errorsComp = [matrixDiffMag(k, KTarget) for k in KSim.getSTransPart()]\n",
    "    errorsMag = [matrixMagDiffMag(k, KTarget) for k in KSim.getSTransPart()]\n",
    "    errorsMagVarPh = [matrixDiffVarPhase(k, KTarget) for k in KSim.getSTransPart()]\n",
    "\n",
    "    p.line(x=KSim.wls, y=errorsComp, line_color=palettes.Category10[9][0], legend_label=\"Complex Error\")\n",
    "    p.line(x=KSim.wls, y=errorsMag, line_color=palettes.Category10[9][1], legend_label=\"Mag Error\")\n",
    "    p.line(x=KSim.wls, y=errorsMagVarPh, line_color=palettes.Category10[9][2], legend_label=\"Complex Error var Phase\")\n",
    "    return p"
   ]
  },
  {
   "cell_type": "markdown",
   "metadata": {
    "id": "Q7E3T1WN8DqI"
   },
   "source": [
    "#### Interference Dispersion Plot"
   ]
  },
  {
   "cell_type": "code",
   "execution_count": null,
   "metadata": {
    "id": "KwkpXUsh8DqJ"
   },
   "outputs": [],
   "source": [
    "def makeInterDispersionPlot(KName, yMax):\n",
    "    p = figure(plot_width=850, plot_height=400, title=KName+' Interferred Power Transmissions', x_range=[1.400,1.600], y_range=[0, yMax])\n",
    "    p.xaxis.axis_label = 'wavelength (um)'\n",
    "    p.yaxis.axis_label = 'T'\n",
    "    return p"
   ]
  },
  {
   "cell_type": "code",
   "execution_count": null,
   "metadata": {
    "id": "VOUa-ylY8DqL"
   },
   "outputs": [],
   "source": [
    "def addSimTraces1(p, KSim, rPairs, tList):\n",
    "    cIndex = 0\n",
    "    for t in tVals:\n",
    "        for rPair in rPairs:\n",
    "            color = palettes.Category10[9][cIndex]\n",
    "            cIndex += 1\n",
    "            r1, r2 = rPair\n",
    "            trace = np.abs(KSim.getSTrace(r1,t) + KSim.getSTrace(r2,t))**2\n",
    "            p.line( KSim.wls, trace, line_color=color, line_width=2, legend_label=\"P\"+str(r1)+str(r2)+','+str(t))"
   ]
  },
  {
   "cell_type": "code",
   "execution_count": null,
   "metadata": {
    "id": "Hl6QDvFT8DqO"
   },
   "outputs": [],
   "source": [
    "def addTargDots1(p, KTarg, rPairs, tList):\n",
    "    cIndex = 0\n",
    "    for t in tVals:\n",
    "        for rPair in rPairs:\n",
    "            (r1, r2) = rPair\n",
    "            color = palettes.Category10[9][cIndex]\n",
    "            cIndex += 1\n",
    "            val = np.abs(KTarg.getSVal(r1, t) + KTarg.getSVal(r2, t))**2\n",
    "            p.circle([1.525], [val], size=10, color=color, fill_alpha=0)"
   ]
  },
  {
   "cell_type": "code",
   "execution_count": null,
   "metadata": {
    "id": "uh1q_tf38DqN"
   },
   "outputs": [],
   "source": [
    "def addExpDots1(p, KExpInt, rPairs, tList):\n",
    "    cIndex = 0\n",
    "    for t in tVals:\n",
    "        for rPair in rPairs:\n",
    "            color = palettes.Category10[9][cIndex]\n",
    "            cIndex += 1\n",
    "            val = KExpInt.getPVal(rPair, t)\n",
    "            p.cross([1.525], [val], size=10, color=color)"
   ]
  },
  {
   "cell_type": "markdown",
   "metadata": {
    "id": "pji9AQNn0foe"
   },
   "source": [
    "#### Power Bar Plot"
   ]
  },
  {
   "cell_type": "code",
   "execution_count": null,
   "metadata": {
    "id": "YhdkV-rnIX-K"
   },
   "outputs": [],
   "source": [
    "def MakePowerBarPlot(KTarg, KSim, KExp, rVals, tVals):\n",
    "    cats = ['T'+str(r)+str(t) for r in rVals for t in tVals]\n",
    "    subCats = ['targ', 'sim', 'exp']\n",
    "    dodges = [-0.25, 0.0, 0.25]\n",
    "    colors = [\"#c9d9d3\", \"#718dbf\", \"#e84d60\"]\n",
    "\n",
    "    targData = KTarg.getPTransPart().flatten().tolist()\n",
    "    simData = KSim.getPTransPartAtWL(1.525).flatten().tolist()\n",
    "    expData = KExp.getPTransPart().flatten().tolist()\n",
    "\n",
    "    data = {'cats' : cats,\n",
    "            'targ' : targData,\n",
    "            'sim' : simData,\n",
    "            'exp' : expData}\n",
    "    source = ColumnDataSource(data=data)\n",
    "\n",
    "    max = np.max((targData,simData,expData))\n",
    "    p = figure(x_range=cats, y_range=(0, 1.2*max), plot_width=850, plot_height = 300, \n",
    "               title=\"Power Comparisons\", toolbar_location=None, tools=\"\")\n",
    "\n",
    "    for i in range(len(subCats)):\n",
    "        p.vbar(x=dodge('cats', dodges[i], range=p.x_range), top=subCats[i], width=0.2, source=source,\n",
    "        color=colors[i], legend_label=subCats[i])\n",
    "\n",
    "    p.x_range.range_padding = 0.1\n",
    "    p.xgrid.grid_line_color = None\n",
    "    p.legend.location = \"top_left\"\n",
    "    p.legend.orientation = \"horizontal\"\n",
    "    return p"
   ]
  },
  {
   "cell_type": "code",
   "execution_count": null,
   "metadata": {
    "id": "_4OQibcQ6bnt"
   },
   "outputs": [],
   "source": [
    "def MakeInterPowerBarPlot(KTarg, KSim, KExpInt, rPairs, tVals):\n",
    "    cats = ['T'+str(r[0])+str(r[1])+','+str(t) for r in rPairs for t in tVals]\n",
    "    subCats = ['targ', 'sim', 'exp']\n",
    "    dodges =  [ -0.25,   0.0,  0.25]\n",
    "    colors = [\"#c9d9d3\", \"#718dbf\", \"#e84d60\"]\n",
    "\n",
    "    targData = [np.abs(KTarg.getSVal(r[0],t) + KTarg.getSVal(r[1],t) )**2 for r in rPairs for t in tVals]\n",
    "    simData = [np.abs(KSim.getSVal(r[0],t, 1.525) + KSim.getSVal(r[1],t, 1.525) )**2 for r in rPairs for t in tVals]\n",
    "    expData = [KExpInt.getPVal(r, t) for r in rPairs for t in tVals]\n",
    "    \n",
    "    data = {'cats' : cats,\n",
    "            'targ' : targData,\n",
    "            'sim' : simData,\n",
    "            'exp' : expData}\n",
    "    source = ColumnDataSource(data=data)\n",
    "\n",
    "    max = np.max((targData,simData,expData))\n",
    "    p = figure(x_range=cats, y_range=(0, 1.2*max), plot_width=850, plot_height = 300, \n",
    "                title=\"Power Comparisons\", toolbar_location=None, tools=\"\")\n",
    "\n",
    "    for i in range(len(subCats)):\n",
    "        p.vbar(x=dodge('cats', dodges[i], range=p.x_range), top=subCats[i], width=0.2, source=source,\n",
    "        color=colors[i], legend_label=subCats[i])\n",
    "\n",
    "    p.x_range.range_padding = 0.1\n",
    "    p.xgrid.grid_line_color = None\n",
    "    p.legend.location = \"top_left\"\n",
    "    p.legend.orientation = \"horizontal\"\n",
    "    return p"
   ]
  },
  {
   "cell_type": "code",
   "execution_count": null,
   "metadata": {},
   "outputs": [],
   "source": []
  }
 ],
 "metadata": {
  "kernelspec": {
   "display_name": "Python 3",
   "language": "python",
   "name": "python3"
  },
  "language_info": {
   "codemirror_mode": {
    "name": "ipython",
    "version": 3
   },
   "file_extension": ".py",
   "mimetype": "text/x-python",
   "name": "python",
   "nbconvert_exporter": "python",
   "pygments_lexer": "ipython3",
   "version": "3.8.5"
  }
 },
 "nbformat": 4,
 "nbformat_minor": 4
}
