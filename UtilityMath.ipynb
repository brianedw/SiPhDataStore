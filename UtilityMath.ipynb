{
 "cells": [
  {
   "cell_type": "markdown",
   "metadata": {},
   "source": [
    "### stock imports"
   ]
  },
  {
   "cell_type": "code",
   "execution_count": null,
   "metadata": {},
   "outputs": [],
   "source": [
    "import numpy as np\n",
    "import pandas as pd"
   ]
  },
  {
   "cell_type": "code",
   "execution_count": null,
   "metadata": {},
   "outputs": [],
   "source": [
    "from scipy.optimize import minimize_scalar, minimize"
   ]
  },
  {
   "cell_type": "code",
   "execution_count": null,
   "metadata": {},
   "outputs": [],
   "source": [
    "from scipy import interpolate"
   ]
  },
  {
   "cell_type": "markdown",
   "metadata": {
    "id": "Ho7-ua1gb9fC"
   },
   "source": [
    "# Utility Functions"
   ]
  },
  {
   "cell_type": "markdown",
   "metadata": {
    "heading_collapsed": "true"
   },
   "source": [
    "## Lin to dB Conversions"
   ]
  },
  {
   "cell_type": "code",
   "execution_count": null,
   "metadata": {
    "id": "Uf8xkaCTs4T2"
   },
   "outputs": [],
   "source": [
    "def dBToLinPower(dbData):\n",
    "    return 10**(dbData/10)"
   ]
  },
  {
   "cell_type": "code",
   "execution_count": null,
   "metadata": {
    "colab": {
     "base_uri": "https://localhost:8080/"
    },
    "id": "ZRrCVWrqbf-o",
    "outputId": "37e74ba4-a1ce-4c3e-c6df-398074e84610"
   },
   "outputs": [],
   "source": [
    "dBToLinPower(-3)"
   ]
  },
  {
   "cell_type": "markdown",
   "metadata": {
    "heading_collapsed": "true"
   },
   "source": [
    "## Array Approximation"
   ]
  },
  {
   "cell_type": "code",
   "execution_count": null,
   "metadata": {
    "id": "TZhoPEGDXnJe"
   },
   "outputs": [],
   "source": [
    "def find_nearest(array, value):\n",
    "    array = np.array(array)\n",
    "    idx = (np.abs(array - value)).argmin()\n",
    "    return array[idx]"
   ]
  },
  {
   "cell_type": "code",
   "execution_count": null,
   "metadata": {
    "colab": {
     "base_uri": "https://localhost:8080/"
    },
    "id": "2L2mlYVDbjiW",
    "outputId": "3c6e004e-b13d-43a2-cfab-084f8c93aee3"
   },
   "outputs": [],
   "source": [
    "find_nearest([0,2,4,6,8], 4.2)"
   ]
  },
  {
   "cell_type": "code",
   "execution_count": null,
   "metadata": {
    "id": "BrmWpxe4Xvsd"
   },
   "outputs": [],
   "source": [
    "def find_nearest_index(array, value):\n",
    "    array = np.asarray(array)\n",
    "    idx = (np.abs(array - value)).argmin()\n",
    "    return idx"
   ]
  },
  {
   "cell_type": "code",
   "execution_count": null,
   "metadata": {
    "colab": {
     "base_uri": "https://localhost:8080/"
    },
    "id": "g3ENvpZKb0we",
    "outputId": "aab70762-5220-41a1-b7e7-1ff1ce7bb163"
   },
   "outputs": [],
   "source": [
    "find_nearest_index([0,2,4,6,8], 4.2)"
   ]
  },
  {
   "cell_type": "markdown",
   "metadata": {
    "heading_collapsed": "true"
   },
   "source": [
    "## Random Matrix Generation"
   ]
  },
  {
   "cell_type": "code",
   "execution_count": null,
   "metadata": {},
   "outputs": [],
   "source": [
    "def RandomComplexGaussianMatrix(sigma, size):\n",
    "    \"\"\"\n",
    "    Generates a matrix random complex values where each value is\n",
    "    within a circle of radius `r`.  Values are evenly distributed\n",
    "    by area.\n",
    "    \"\"\"\n",
    "    reMat = np.random.normal(0, sigma, size=size)\n",
    "    imMat = np.random.normal(0, sigma, size=size)\n",
    "    cMat = reMat + 1j*imMat\n",
    "    return cMat"
   ]
  },
  {
   "cell_type": "code",
   "execution_count": null,
   "metadata": {},
   "outputs": [],
   "source": [
    "RandomComplexGaussianMatrix(0.1, (2,3))"
   ]
  },
  {
   "cell_type": "markdown",
   "metadata": {},
   "source": [
    "## Matrix Difference"
   ]
  },
  {
   "cell_type": "code",
   "execution_count": null,
   "metadata": {},
   "outputs": [],
   "source": [
    "m1 = RandomComplexGaussianMatrix(1, (2,2))\n",
    "z = np.exp(1j*0.1)\n",
    "m2 = z*m1 + RandomComplexGaussianMatrix(0.1, (2,2))"
   ]
  },
  {
   "cell_type": "code",
   "execution_count": null,
   "metadata": {
    "id": "zWFg2dCgLmoz"
   },
   "outputs": [],
   "source": [
    "def matrixDiffMag(m1, m2):\n",
    "    \"\"\"\n",
    "    Computes the magnitude of the difference between two complex matrices\n",
    "    \"\"\"\n",
    "    return (abs(m1 - m2)**2).sum()"
   ]
  },
  {
   "cell_type": "code",
   "execution_count": null,
   "metadata": {},
   "outputs": [],
   "source": [
    "matrixDiffMag(m1, m2)"
   ]
  },
  {
   "cell_type": "code",
   "execution_count": null,
   "metadata": {
    "id": "_Y07UoZFq7t5"
   },
   "outputs": [],
   "source": [
    "def matrixMagDiffMag(m1, m2):\n",
    "    \"\"\"\n",
    "    Computes the magnitude of the difference between two the magnituds of two complex matrices\n",
    "    \"\"\"\n",
    "    return (abs(np.abs(m1) - np.abs(m2))**2).sum()"
   ]
  },
  {
   "cell_type": "code",
   "execution_count": null,
   "metadata": {},
   "outputs": [],
   "source": [
    "matrixMagDiffMag(m1, m2)"
   ]
  },
  {
   "cell_type": "code",
   "execution_count": null,
   "metadata": {
    "id": "ckWMSWktRRWD"
   },
   "outputs": [],
   "source": [
    "def matrixDiffVarPh(ph, m1, m2):\n",
    "    \"\"\"\n",
    "    Computes the magnitude of the difference between two complex matrices\n",
    "    where one one is rotated by ph.\n",
    "    \"\"\"\n",
    "    return (abs(m1 - np.exp(1j*ph)*m2)**2).sum()"
   ]
  },
  {
   "cell_type": "code",
   "execution_count": null,
   "metadata": {},
   "outputs": [],
   "source": [
    "matrixDiffVarPh(-0.1, m1, m2)"
   ]
  },
  {
   "cell_type": "code",
   "execution_count": null,
   "metadata": {
    "id": "jjaXyBM7rbEY"
   },
   "outputs": [],
   "source": [
    "def matrixDiffVarPhase(m1, m2):\n",
    "    \"\"\"\n",
    "    Computes the magnitude of the difference between two complex matrices\n",
    "    where one one is rotated by ph to find the minimul distance.\n",
    "    \"\"\"\n",
    "    soln = minimize_scalar(matrixDiffVarPh, args=(m1, m2), bounds=(-np.pi, np.pi), method='bounded')\n",
    "    val = soln.fun\n",
    "    return val"
   ]
  },
  {
   "cell_type": "code",
   "execution_count": null,
   "metadata": {},
   "outputs": [],
   "source": [
    "matrixDiffVarPhase(m1, m2)"
   ]
  },
  {
   "cell_type": "markdown",
   "metadata": {
    "id": "k9Syv88AAFxF"
   },
   "source": [
    "## Fitted Deembedding"
   ]
  },
  {
   "cell_type": "code",
   "execution_count": null,
   "metadata": {},
   "outputs": [],
   "source": [
    "deg = 2*np.pi/360"
   ]
  },
  {
   "cell_type": "code",
   "execution_count": null,
   "metadata": {},
   "outputs": [],
   "source": [
    "round2 = lambda a: np.round(a, 2)"
   ]
  },
  {
   "cell_type": "code",
   "execution_count": null,
   "metadata": {
    "id": "dMqi15JWG5gp"
   },
   "outputs": [],
   "source": [
    "def makeCFUniform(theta1, n):\n",
    "    \"\"\"\n",
    "    Makes a phase rotation matrix where all channel combinations have the same\n",
    "    rotation.\n",
    "    \"\"\"\n",
    "    cf1 = np.exp(1j*(theta1)*deg)\n",
    "    CF1 = np.full((n,n), cf1)\n",
    "    CF = CF1 * CF1.T\n",
    "    return CF"
   ]
  },
  {
   "cell_type": "code",
   "execution_count": null,
   "metadata": {},
   "outputs": [],
   "source": [
    "round2(makeCFUniform(30, 3))"
   ]
  },
  {
   "cell_type": "code",
   "execution_count": null,
   "metadata": {
    "id": "Ul8VLY7028Q7"
   },
   "outputs": [],
   "source": [
    "def makeCFSymmetrical(thetaSequence):\n",
    "    \"\"\"\n",
    "    Makes a phase rotation matrix where all channel combinations are not equal,\n",
    "    but still display symmetry.  For instance, in a 6 port system (3 in, 3 out),\n",
    "    ports [1, 3, 4, 6] would be assumed to have one phase offset, while [2, 5]\n",
    "    would be have another.  This provides two degrees of freedom.\n",
    "    1 -|    |- 4\n",
    "    2--|    |--5\n",
    "    3 -|    |- 6\n",
    "    \"\"\"\n",
    "    thetaHalfArray = np.array(thetaSequence)\n",
    "    thetaArray = np.concatenate((thetaHalfArray, thetaHalfArray[-2::-1])).reshape((1,-1))\n",
    "    CF1 = np.exp(1j*thetaArray*deg)\n",
    "    CF = CF1 * CF1.T\n",
    "    return CF"
   ]
  },
  {
   "cell_type": "code",
   "execution_count": null,
   "metadata": {},
   "outputs": [],
   "source": [
    "round2(makeCFSymmetrical([30, 20]))"
   ]
  },
  {
   "cell_type": "code",
   "execution_count": null,
   "metadata": {
    "id": "drQ7fmNbcU_v"
   },
   "outputs": [],
   "source": [
    "def findSF(pMatA, pMatB):\n",
    "    def f(sf):\n",
    "        error = matrixMagDiffMag(pMatA*sf, pMatB)\n",
    "        return error\n",
    "    soln = minimize(f,[0])\n",
    "    arr1D = soln.x\n",
    "    sf = arr1D[0]\n",
    "    return sf"
   ]
  },
  {
   "cell_type": "code",
   "execution_count": null,
   "metadata": {},
   "outputs": [],
   "source": [
    "m1 = RandomComplexGaussianMatrix(1, (2,2))\n",
    "m2 = 0.9*m1\n",
    "findSF(m1, m2)"
   ]
  },
  {
   "cell_type": "code",
   "execution_count": null,
   "metadata": {
    "id": "7ymB8Tt9ctUF"
   },
   "outputs": [],
   "source": [
    "def findSingleRotCF(matA, matB):\n",
    "    def f(arr1D):\n",
    "        (theta1,) = arr1D\n",
    "        (n,n) = matA.shape\n",
    "        CF = makeCFUniform(theta1, n)\n",
    "        error = matrixDiffMag(matA*CF, matB)\n",
    "        return error\n",
    "    soln = minimize(f,[0])\n",
    "    arr1D = soln.x\n",
    "    theta1 = arr1D[0]\n",
    "    print(\"rotation angle:\", theta1)\n",
    "    (n,n) = matA.shape\n",
    "    return makeCFUniform(theta1, n)"
   ]
  },
  {
   "cell_type": "code",
   "execution_count": null,
   "metadata": {},
   "outputs": [],
   "source": [
    "m1 = RandomComplexGaussianMatrix(1, (2,2))\n",
    "m2 = np.exp(1j*20*deg)*m1\n",
    "findSingleRotCF(m1, m2)"
   ]
  },
  {
   "cell_type": "code",
   "execution_count": null,
   "metadata": {
    "colab": {
     "base_uri": "https://localhost:8080/"
    },
    "id": "dy6v8PIz5-cj",
    "outputId": "60d71da6-3117-4f21-b454-ab8e2c9eda4d"
   },
   "outputs": [],
   "source": [
    "a1 = np.array([[1,1,1],[1,1,1],[1,1,1]])\n",
    "a2 = a1 * makeCFUniform(13., 3)\n",
    "CF = findSingleRotCF(a1, a2)\n",
    "matrixDiffMag(a1*CF, a2)"
   ]
  },
  {
   "cell_type": "code",
   "execution_count": null,
   "metadata": {
    "id": "V6wRAFO3b6J2"
   },
   "outputs": [],
   "source": [
    "def findDoubleRotCF(matA, matB):\n",
    "    # arr1D = [theta1, theta2]\n",
    "    def f(arr1D):\n",
    "        (theta1, theta2) = arr1D\n",
    "        CF = makeCFSymmetrical(arr1D)\n",
    "        error = matrixDiffMag(matA*CF, matB)\n",
    "        return error\n",
    "    soln = minimize(f,[0,0])\n",
    "    (theta1, theta2) = soln.x\n",
    "    print(\"rotation angles:\", theta1, theta2)\n",
    "    return makeCFSymmetrical(soln.x)"
   ]
  },
  {
   "cell_type": "code",
   "execution_count": null,
   "metadata": {
    "id": "zl2hZSca_hkY"
   },
   "outputs": [],
   "source": [
    "a1 = np.array([[1,1,1],[1,1,1],[1,1,1]])\n",
    "a2 = a1 * makeCFSymmetrical([13.,87.])\n",
    "CF = findDoubleRotCF(a1, a2)\n",
    "matrixDiffMag(a1*CF, a2)"
   ]
  },
  {
   "cell_type": "markdown",
   "metadata": {
    "heading_collapsed": "true"
   },
   "source": [
    "## Label Generation"
   ]
  },
  {
   "cell_type": "code",
   "execution_count": null,
   "metadata": {},
   "outputs": [],
   "source": [
    "import itertools"
   ]
  },
  {
   "cell_type": "code",
   "execution_count": null,
   "metadata": {},
   "outputs": [],
   "source": [
    "def genTransLabels(nPorts):\n",
    "    n = nPorts//2\n",
    "    inPorts = np.linspace(1, n, num=n, endpoint=True, dtype=np.int)\n",
    "    outPorts = np.linspace(1 + n, n+n, num=n, endpoint=True, dtype=np.int)\n",
    "    combos = list(itertools.product(outPorts, inPorts))\n",
    "    labels = ['T'+str(oP)+str(iP) for oP, iP in combos]\n",
    "    return labels"
   ]
  },
  {
   "cell_type": "code",
   "execution_count": null,
   "metadata": {},
   "outputs": [],
   "source": [
    "genTransLabels(6)"
   ]
  },
  {
   "cell_type": "code",
   "execution_count": null,
   "metadata": {},
   "outputs": [],
   "source": [
    "def genInterferenceLabels(nPorts):\n",
    "    n = nPorts//2\n",
    "    inPorts = np.linspace(1, n, num=n, endpoint=True, dtype=np.int)\n",
    "    outPorts = np.linspace(1 + n, n+n, num=n, endpoint=True, dtype=np.int)\n",
    "    outPortPairs = itertools.combinations(outPorts, 2)\n",
    "    combos = list(itertools.product(outPortPairs, inPorts))\n",
    "    labels = ['T'+str(oP1)+str(iP)+'_T'+str(oP2)+str(iP) for ((oP1, oP2), iP) in combos]\n",
    "    return labels"
   ]
  },
  {
   "cell_type": "code",
   "execution_count": null,
   "metadata": {},
   "outputs": [],
   "source": [
    "genInterferenceLabels(6)"
   ]
  },
  {
   "cell_type": "markdown",
   "metadata": {
    "heading_collapsed": "true"
   },
   "source": [
    "## Resampling"
   ]
  },
  {
   "cell_type": "code",
   "execution_count": null,
   "metadata": {},
   "outputs": [],
   "source": [
    "def importCurveOntoWLRange(fname, wlmin, wlmax):\n",
    "    calCurve = np.array(pd.read_csv(fname, sep=',', header=None))\n",
    "    wlsImp, TImp = calCurve.T\n",
    "    f = interpolate.interp1d(wlsImp, TImp, kind='quadratic')\n",
    "    wlsNew = np.linspace(wlmin, wlmax, wlmax-wlmin+1, endpoint=True)\n",
    "    return np.array([wlsNew, f(wlsNew)]).T"
   ]
  },
  {
   "cell_type": "code",
   "execution_count": null,
   "metadata": {},
   "outputs": [],
   "source": [
    "importCurveOntoWLRange(\"./simulations/GC_V1.csv\", 1470, 1580)"
   ]
  },
  {
   "cell_type": "code",
   "execution_count": null,
   "metadata": {},
   "outputs": [],
   "source": []
  },
  {
   "cell_type": "code",
   "execution_count": null,
   "metadata": {},
   "outputs": [],
   "source": []
  },
  {
   "cell_type": "code",
   "execution_count": null,
   "metadata": {},
   "outputs": [],
   "source": []
  },
  {
   "cell_type": "code",
   "execution_count": null,
   "metadata": {},
   "outputs": [],
   "source": []
  }
 ],
 "metadata": {
  "kernelspec": {
   "display_name": "Python 3",
   "language": "python",
   "name": "python3"
  },
  "language_info": {
   "codemirror_mode": {
    "name": "ipython",
    "version": 3
   },
   "file_extension": ".py",
   "mimetype": "text/x-python",
   "name": "python",
   "nbconvert_exporter": "python",
   "pygments_lexer": "ipython3",
   "version": "3.8.5"
  }
 },
 "nbformat": 4,
 "nbformat_minor": 4
}
